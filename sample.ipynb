{
 "cells": [
  {
   "metadata": {},
   "cell_type": "code",
   "source": [
    "import re\n",
    "from docx import Document\n",
    "import os"
   ],
   "id": "fbc121e30a2defb3",
   "outputs": [],
   "execution_count": null
  },
  {
   "metadata": {
    "ExecuteTime": {
     "end_time": "2024-12-17T19:24:42.104738Z",
     "start_time": "2024-12-17T19:24:42.088387Z"
    }
   },
   "cell_type": "code",
   "source": [
    "caminhoDocx = \"Capitulo 1.docx\"\n",
    "docxSemTratamento = Document(caminhoDocx)\n",
    "texto = \"\\n\".join(paragraph.text for paragraph in docxSemTratamento.paragraphs)\n",
    "caminhoTxt = \"Capitulo 1.txt\"\n",
    "resultadoTxt = \"\"\n",
    "\n",
    "if os.path.exists(caminhoTxt):\n",
    "    with open(\"Capitulo 1.txt\", \"r\", encoding=\"utf-8\") as txt_file:\n",
    "        resultadoTxt = txt_file.read()\n",
    "    resultadoTxt = re.sub(r'\\s{2,}', ' ', resultadoTxt)\n",
    "else:\n",
    "    with open(\"Capitulo 1.txt\", \"w\", encoding=\"utf-8\") as txt_file:\n",
    "        txt_file.write(texto)\n",
    "    with open(\"Capitulo 1.txt\", \"r\", encoding=\"utf-8\") as txt_file:\n",
    "        resultadoTxt = txt_file.read()"
   ],
   "id": "53c5bb85d5c57a6b",
   "outputs": [],
   "execution_count": 18
  },
  {
   "metadata": {
    "ExecuteTime": {
     "end_time": "2024-12-17T19:34:22.143505Z",
     "start_time": "2024-12-17T19:34:21.925339Z"
    }
   },
   "cell_type": "code",
   "source": [
    "doc = Document()\n",
    "docxTratado = \"DocxTratado.docx\"\n",
    "with open(\"Capitulo 1.txt\", \"r\", encoding=\"utf-8\") as txt_file:\n",
    "    resultadoTxt = txt_file.readlines()\n",
    "for linhas in resultadoTxt:\n",
    "    if linhas.strip():\n",
    "        doc.add_paragraph(linhas.strip())\n",
    "    doc.save(docxTratado)"
   ],
   "id": "c1870bbe5be2bc30",
   "outputs": [],
   "execution_count": 27
  },
  {
   "metadata": {
    "ExecuteTime": {
     "end_time": "2024-12-17T19:34:24.013036Z",
     "start_time": "2024-12-17T19:34:24.008302Z"
    }
   },
   "cell_type": "code",
   "source": "print(str(docxTratado))",
   "id": "14ae9cbdf9106f3d",
   "outputs": [
    {
     "name": "stdout",
     "output_type": "stream",
     "text": [
      "DocxTratado.docx\n"
     ]
    }
   ],
   "execution_count": 28
  }
 ],
 "metadata": {
  "kernelspec": {
   "display_name": "Python 3",
   "language": "python",
   "name": "python3"
  },
  "language_info": {
   "codemirror_mode": {
    "name": "ipython",
    "version": 2
   },
   "file_extension": ".py",
   "mimetype": "text/x-python",
   "name": "python",
   "nbconvert_exporter": "python",
   "pygments_lexer": "ipython2",
   "version": "2.7.6"
  }
 },
 "nbformat": 4,
 "nbformat_minor": 5
}
